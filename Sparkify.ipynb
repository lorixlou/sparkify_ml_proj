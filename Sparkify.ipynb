{
 "cells": [
  {
   "cell_type": "markdown",
   "metadata": {},
   "source": [
    "# Sparkify Project Workspace\n",
    "This workspace contains a tiny subset (128MB) of the full dataset available (12GB). Feel free to use this workspace to build your project, or to explore a smaller subset with Spark before deploying your cluster on the cloud. Instructions for setting up your Spark cluster is included in the last lesson of the Extracurricular Spark Course content.\n",
    "\n",
    "You can follow the steps below to guide your data analysis and model building portion of this project."
   ]
  },
  {
   "cell_type": "code",
   "execution_count": 1,
   "metadata": {},
   "outputs": [],
   "source": [
    "# import libraries\n",
    "from pyspark.sql import SparkSession, Window\n",
    "from pyspark.sql.functions import avg, stddev, split, udf, isnull, first, col, format_number, rand, desc\n",
    "from pyspark.sql.functions import min as Fmin\n",
    "from pyspark.sql.functions import max as Fmax\n",
    "from pyspark.sql.functions import sum as Fsum\n",
    "from pyspark.sql.types import IntegerType, FloatType\n",
    "\n",
    "from pyspark.ml import Pipeline\n",
    "from pyspark.ml.classification import LogisticRegression, DecisionTreeClassifier,RandomForestClassifier, LinearSVC\n",
    "from pyspark.ml.feature import StandardScaler, VectorAssembler\n",
    "from pyspark.ml.evaluation import MulticlassClassificationEvaluator\n",
    "from pyspark.mllib.evaluation import MulticlassMetrics\n",
    "from pyspark.ml.tuning import CrossValidator, ParamGridBuilder"
   ]
  },
  {
   "cell_type": "code",
   "execution_count": 2,
   "metadata": {},
   "outputs": [],
   "source": [
    "# create a Spark session\n",
    "import re\n",
    "import copy\n",
    "import time\n",
    "import datetime\n",
    "import numpy as np\n",
    "import pandas as pd\n",
    "import seaborn as sns\n",
    "import matplotlib.pyplot as plt\n",
    "from statsmodels.stats.proportion import proportions_ztest\n",
    "\n",
    "%matplotlib inline"
   ]
  },
  {
   "cell_type": "code",
   "execution_count": 3,
   "metadata": {},
   "outputs": [],
   "source": [
    "#set seaborn\n",
    "sns.set()"
   ]
  },
  {
   "cell_type": "code",
   "execution_count": 4,
   "metadata": {},
   "outputs": [],
   "source": [
    "# Create spark session\n",
    "spark = SparkSession \\\n",
    "    .builder \\\n",
    "    .appName(\"Sparkify\") \\\n",
    "    .enableHiveSupport() \\\n",
    "    .getOrCreate()"
   ]
  },
  {
   "cell_type": "markdown",
   "metadata": {},
   "source": [
    "# Load and Clean Dataset\n",
    "In this workspace, the mini-dataset file is `mini_sparkify_event_data.json`. Load and clean the dataset, checking for invalid or missing data - for example, records without userids or sessionids. "
   ]
  },
  {
   "cell_type": "code",
   "execution_count": 5,
   "metadata": {},
   "outputs": [
    {
     "name": "stdout",
     "output_type": "stream",
     "text": [
      "+--------------+---------+---------+------+-------------+--------+---------+-----+---------------+------+--------+-------------+---------+---------+------+-------------+--------------------+------+\n",
      "|        artist|     auth|firstName|gender|itemInSession|lastName|   length|level|       location|method|    page| registration|sessionId|     song|status|           ts|           userAgent|userId|\n",
      "+--------------+---------+---------+------+-------------+--------+---------+-----+---------------+------+--------+-------------+---------+---------+------+-------------+--------------------+------+\n",
      "|Martha Tilston|Logged In|    Colin|     M|           50| Freeman|277.89016| paid|Bakersfield, CA|   PUT|NextSong|1538173362000|       29|Rockpools|   200|1538352117000|Mozilla/5.0 (Wind...|    30|\n",
      "+--------------+---------+---------+------+-------------+--------+---------+-----+---------------+------+--------+-------------+---------+---------+------+-------------+--------------------+------+\n",
      "only showing top 1 row\n",
      "\n"
     ]
    }
   ],
   "source": [
    "df = spark.read.json('mini_sparkify_event_data.json')\n",
    "df.show(1)"
   ]
  },
  {
   "cell_type": "markdown",
   "metadata": {},
   "source": [
    "## Basic Data Analysis and Statistics Exploration\n",
    "1. Explore the columns this dataset contains\n",
    "2. Explore the basic statistics this dataset shows\n",
    "3. Explore the main features this dataset contains "
   ]
  },
  {
   "cell_type": "code",
   "execution_count": 6,
   "metadata": {},
   "outputs": [
    {
     "name": "stdout",
     "output_type": "stream",
     "text": [
      "root\n",
      " |-- artist: string (nullable = true)\n",
      " |-- auth: string (nullable = true)\n",
      " |-- firstName: string (nullable = true)\n",
      " |-- gender: string (nullable = true)\n",
      " |-- itemInSession: long (nullable = true)\n",
      " |-- lastName: string (nullable = true)\n",
      " |-- length: double (nullable = true)\n",
      " |-- level: string (nullable = true)\n",
      " |-- location: string (nullable = true)\n",
      " |-- method: string (nullable = true)\n",
      " |-- page: string (nullable = true)\n",
      " |-- registration: long (nullable = true)\n",
      " |-- sessionId: long (nullable = true)\n",
      " |-- song: string (nullable = true)\n",
      " |-- status: long (nullable = true)\n",
      " |-- ts: long (nullable = true)\n",
      " |-- userAgent: string (nullable = true)\n",
      " |-- userId: string (nullable = true)\n",
      "\n"
     ]
    }
   ],
   "source": [
    "df.printSchema()"
   ]
  },
  {
   "cell_type": "code",
   "execution_count": 7,
   "metadata": {},
   "outputs": [
    {
     "name": "stdout",
     "output_type": "stream",
     "text": [
      "+-------+------------------+\n",
      "|summary|            artist|\n",
      "+-------+------------------+\n",
      "|  count|            228108|\n",
      "|   mean| 551.0852017937219|\n",
      "| stddev|1217.7693079161374|\n",
      "|    min|               !!!|\n",
      "|    max| ÃÂlafur Arnalds|\n",
      "+-------+------------------+\n",
      "\n"
     ]
    }
   ],
   "source": [
    "# Describe the statistics of the dataset in different columns\n",
    "# artist:\n",
    "df.describe('artist').show()"
   ]
  },
  {
   "cell_type": "code",
   "execution_count": 8,
   "metadata": {},
   "outputs": [
    {
     "name": "stdout",
     "output_type": "stream",
     "text": [
      "+-------+-----------------+\n",
      "|summary|        sessionId|\n",
      "+-------+-----------------+\n",
      "|  count|           286500|\n",
      "|   mean|1041.526554973822|\n",
      "| stddev|726.7762634630741|\n",
      "|    min|                1|\n",
      "|    max|             2474|\n",
      "+-------+-----------------+\n",
      "\n"
     ]
    }
   ],
   "source": [
    "# sessionId:\n",
    "df.describe('sessionId').show()"
   ]
  },
  {
   "cell_type": "code",
   "execution_count": 9,
   "metadata": {},
   "outputs": [
    {
     "name": "stdout",
     "output_type": "stream",
     "text": [
      "+-------+-----------------+\n",
      "|summary|           userId|\n",
      "+-------+-----------------+\n",
      "|  count|           286500|\n",
      "|   mean|59682.02278593872|\n",
      "| stddev|109091.9499991047|\n",
      "|    min|                 |\n",
      "|    max|               99|\n",
      "+-------+-----------------+\n",
      "\n"
     ]
    }
   ],
   "source": [
    "# userId:\n",
    "df.describe('userId').show()"
   ]
  },
  {
   "cell_type": "code",
   "execution_count": 10,
   "metadata": {},
   "outputs": [
    {
     "name": "stdout",
     "output_type": "stream",
     "text": [
      "+--------------------+\n",
      "|                page|\n",
      "+--------------------+\n",
      "|               About|\n",
      "|          Add Friend|\n",
      "|     Add to Playlist|\n",
      "|              Cancel|\n",
      "|Cancellation Conf...|\n",
      "|           Downgrade|\n",
      "|               Error|\n",
      "|                Help|\n",
      "|                Home|\n",
      "|               Login|\n",
      "|              Logout|\n",
      "|            NextSong|\n",
      "|            Register|\n",
      "|         Roll Advert|\n",
      "|       Save Settings|\n",
      "|            Settings|\n",
      "|    Submit Downgrade|\n",
      "| Submit Registration|\n",
      "|      Submit Upgrade|\n",
      "|         Thumbs Down|\n",
      "|           Thumbs Up|\n",
      "|             Upgrade|\n",
      "+--------------------+\n",
      "\n"
     ]
    }
   ],
   "source": [
    "# Show the options in page column\n",
    "df.select(\"page\").dropDuplicates().sort(\"page\").show(50)"
   ]
  },
  {
   "cell_type": "markdown",
   "metadata": {},
   "source": [
    "## Data Wrangling\n",
    "1. Drop rows with missing values in UserId and SessionId\n",
    "2. Drop rows with empty string values in UserId\n",
    "3. Convert the datetime into hours"
   ]
  },
  {
   "cell_type": "code",
   "execution_count": 11,
   "metadata": {},
   "outputs": [],
   "source": [
    "df_valid = df.dropna(how = \"any\", subset = [\"userId\", \"sessionId\"])"
   ]
  },
  {
   "cell_type": "code",
   "execution_count": 12,
   "metadata": {},
   "outputs": [],
   "source": [
    "df_valid = df_valid.fillna(0, subset=['length'])"
   ]
  },
  {
   "cell_type": "code",
   "execution_count": 13,
   "metadata": {},
   "outputs": [
    {
     "name": "stdout",
     "output_type": "stream",
     "text": [
      "+--------------------+---------+---------+------+-------------+--------+---------+-----+--------------------+------+---------------+-------------+---------+--------------------+------+-------------+--------------------+------+\n",
      "|              artist|     auth|firstName|gender|itemInSession|lastName|   length|level|            location|method|           page| registration|sessionId|                song|status|           ts|           userAgent|userId|\n",
      "+--------------------+---------+---------+------+-------------+--------+---------+-----+--------------------+------+---------------+-------------+---------+--------------------+------+-------------+--------------------+------+\n",
      "|      Martha Tilston|Logged In|    Colin|     M|           50| Freeman|277.89016| paid|     Bakersfield, CA|   PUT|       NextSong|1538173362000|       29|           Rockpools|   200|1538352117000|Mozilla/5.0 (Wind...|    30|\n",
      "|    Five Iron Frenzy|Logged In|    Micah|     M|           79|    Long|236.09424| free|Boston-Cambridge-...|   PUT|       NextSong|1538331630000|        8|              Canada|   200|1538352180000|\"Mozilla/5.0 (Win...|     9|\n",
      "|        Adam Lambert|Logged In|    Colin|     M|           51| Freeman| 282.8273| paid|     Bakersfield, CA|   PUT|       NextSong|1538173362000|       29|   Time For Miracles|   200|1538352394000|Mozilla/5.0 (Wind...|    30|\n",
      "|              Enigma|Logged In|    Micah|     M|           80|    Long|262.71302| free|Boston-Cambridge-...|   PUT|       NextSong|1538331630000|        8|Knocking On Forbi...|   200|1538352416000|\"Mozilla/5.0 (Win...|     9|\n",
      "|           Daft Punk|Logged In|    Colin|     M|           52| Freeman|223.60771| paid|     Bakersfield, CA|   PUT|       NextSong|1538173362000|       29|Harder Better Fas...|   200|1538352676000|Mozilla/5.0 (Wind...|    30|\n",
      "|The All-American ...|Logged In|    Micah|     M|           81|    Long|208.29995| free|Boston-Cambridge-...|   PUT|       NextSong|1538331630000|        8|      Don't Leave Me|   200|1538352678000|\"Mozilla/5.0 (Win...|     9|\n",
      "|The Velvet Underg...|Logged In|    Micah|     M|           82|    Long|260.46649| free|Boston-Cambridge-...|   PUT|       NextSong|1538331630000|        8|         Run Run Run|   200|1538352886000|\"Mozilla/5.0 (Win...|     9|\n",
      "|        Starflyer 59|Logged In|    Colin|     M|           53| Freeman|185.44281| paid|     Bakersfield, CA|   PUT|       NextSong|1538173362000|       29|Passengers (Old A...|   200|1538352899000|Mozilla/5.0 (Wind...|    30|\n",
      "|                null|Logged In|    Colin|     M|           54| Freeman|      0.0| paid|     Bakersfield, CA|   PUT|Add to Playlist|1538173362000|       29|                null|   200|1538352905000|Mozilla/5.0 (Wind...|    30|\n",
      "|            Frumpies|Logged In|    Colin|     M|           55| Freeman|134.47791| paid|     Bakersfield, CA|   PUT|       NextSong|1538173362000|       29|          Fuck Kitty|   200|1538353084000|Mozilla/5.0 (Wind...|    30|\n",
      "|        Britt Nicole|Logged In|    Micah|     M|           83|    Long| 229.8771| free|Boston-Cambridge-...|   PUT|       NextSong|1538331630000|        8|   Walk On The Water|   200|1538353146000|\"Mozilla/5.0 (Win...|     9|\n",
      "|                null|Logged In|    Micah|     M|           84|    Long|      0.0| free|Boston-Cambridge-...|   GET|    Roll Advert|1538331630000|        8|                null|   200|1538353150000|\"Mozilla/5.0 (Win...|     9|\n",
      "|Edward Sharpe & T...|Logged In|    Colin|     M|           56| Freeman|223.58159| paid|     Bakersfield, CA|   PUT|       NextSong|1538173362000|       29|                Jade|   200|1538353218000|Mozilla/5.0 (Wind...|    30|\n",
      "|               Tesla|Logged In|    Micah|     M|           85|    Long|201.06404| free|Boston-Cambridge-...|   PUT|       NextSong|1538331630000|        8|      Gettin' Better|   200|1538353375000|\"Mozilla/5.0 (Win...|     9|\n",
      "|                null|Logged In|    Micah|     M|           86|    Long|      0.0| free|Boston-Cambridge-...|   PUT|      Thumbs Up|1538331630000|        8|                null|   307|1538353376000|\"Mozilla/5.0 (Win...|     9|\n",
      "|         Stan Mosley|Logged In|    Colin|     M|           57| Freeman|246.69995| paid|     Bakersfield, CA|   PUT|       NextSong|1538173362000|       29|   So-Called Friends|   200|1538353441000|Mozilla/5.0 (Wind...|    30|\n",
      "|Florence + The Ma...|Logged In|    Micah|     M|           87|    Long|168.64608| free|Boston-Cambridge-...|   PUT|       NextSong|1538331630000|        8| You've Got The Love|   200|1538353576000|\"Mozilla/5.0 (Win...|     9|\n",
      "|   Tokyo Police Club|Logged In|  Ashlynn|     F|            0|Williams| 166.1122| free|     Tallahassee, FL|   PUT|       NextSong|1537365219000|      217|Citizens Of Tomorrow|   200|1538353668000|\"Mozilla/5.0 (Mac...|    74|\n",
      "|             Orishas|Logged In|    Colin|     M|           58| Freeman|222.22322| paid|     Bakersfield, CA|   PUT|       NextSong|1538173362000|       29|           Represent|   200|1538353687000|Mozilla/5.0 (Wind...|    30|\n",
      "|             Ratatat|Logged In|    Micah|     M|           88|    Long|229.77261| free|Boston-Cambridge-...|   PUT|       NextSong|1538331630000|        8|              Swisha|   200|1538353744000|\"Mozilla/5.0 (Win...|     9|\n",
      "+--------------------+---------+---------+------+-------------+--------+---------+-----+--------------------+------+---------------+-------------+---------+--------------------+------+-------------+--------------------+------+\n",
      "only showing top 20 rows\n",
      "\n"
     ]
    }
   ],
   "source": [
    "df_valid.show()"
   ]
  },
  {
   "cell_type": "code",
   "execution_count": 14,
   "metadata": {},
   "outputs": [
    {
     "data": {
      "text/plain": [
       "0"
      ]
     },
     "execution_count": 14,
     "metadata": {},
     "output_type": "execute_result"
    }
   ],
   "source": [
    "df_valid.filter(df[\"sessionId\"] == \"\").count()"
   ]
  },
  {
   "cell_type": "code",
   "execution_count": 15,
   "metadata": {},
   "outputs": [
    {
     "data": {
      "text/plain": [
       "8346"
      ]
     },
     "execution_count": 15,
     "metadata": {},
     "output_type": "execute_result"
    }
   ],
   "source": [
    "df_valid.filter(df[\"userId\"] == \"\").count()"
   ]
  },
  {
   "cell_type": "code",
   "execution_count": 16,
   "metadata": {},
   "outputs": [],
   "source": [
    "df_valid = df_valid.filter(df_valid[\"userId\"] != \"\")"
   ]
  },
  {
   "cell_type": "code",
   "execution_count": 17,
   "metadata": {},
   "outputs": [
    {
     "data": {
      "text/plain": [
       "278154"
      ]
     },
     "execution_count": 17,
     "metadata": {},
     "output_type": "execute_result"
    }
   ],
   "source": [
    "df_valid.count()"
   ]
  },
  {
   "cell_type": "code",
   "execution_count": 18,
   "metadata": {},
   "outputs": [],
   "source": [
    "# Create a lambda function for formating the timestamp\n",
    "get_time = udf(lambda x: datetime.datetime.fromtimestamp(x / 1000.0).strftime(\"%Y-%m-%d %H:%M:%S\"))\n",
    "\n",
    "# Apply the udf on the ts column\n",
    "df_valid = df_valid.withColumn(\"timestamp\", get_time(df_valid.ts))"
   ]
  },
  {
   "cell_type": "markdown",
   "metadata": {},
   "source": [
    "# Exploratory Data Analysis\n",
    "When you're working with the full dataset, perform EDA by loading a small subset of the data and doing basic manipulations within Spark. In this workspace, you are already provided a small subset of data you can explore."
   ]
  },
  {
   "cell_type": "code",
   "execution_count": 19,
   "metadata": {},
   "outputs": [],
   "source": [
    "#Create a temporary view to perform SQL operations\n",
    "df_valid.createOrReplaceTempView(\"Sparkify_valid\")"
   ]
  },
  {
   "cell_type": "markdown",
   "metadata": {},
   "source": [
    "* Exploring gender column"
   ]
  },
  {
   "cell_type": "code",
   "execution_count": 20,
   "metadata": {},
   "outputs": [
    {
     "name": "stdout",
     "output_type": "stream",
     "text": [
      "+------+----------+\n",
      "|gender|user_count|\n",
      "+------+----------+\n",
      "|     M|       121|\n",
      "|     F|       104|\n",
      "+------+----------+\n",
      "\n"
     ]
    }
   ],
   "source": [
    "gender_count = spark.sql('''\n",
    "        SELECT gender, COUNT(DISTINCT userId) AS user_count\n",
    "        FROM Sparkify_valid\n",
    "        GROUP BY gender\n",
    "        ORDER BY user_count DESC\n",
    "''')\n",
    "gender_count.show()"
   ]
  },
  {
   "cell_type": "code",
   "execution_count": 21,
   "metadata": {},
   "outputs": [
    {
     "data": {
      "text/plain": [
       "<matplotlib.axes._subplots.AxesSubplot at 0x7f68684dfcc0>"
      ]
     },
     "execution_count": 21,
     "metadata": {},
     "output_type": "execute_result"
    },
    {
     "data": {
      "image/png": "[encoded data removed]",
      "text/plain": [
       "<matplotlib.figure.Figure at 0x7f68684df860>"
      ]
     },
     "metadata": {},
     "output_type": "display_data"
    }
   ],
   "source": [
    "sns.barplot(x='gender',y='user_count', data=gender_count.toPandas())"
   ]
  },
  {
   "cell_type": "markdown",
   "metadata": {},
   "source": [
    "There are 12 males and 104 females in this dataset, and one without gender declaration"
   ]
  },
  {
   "cell_type": "markdown",
   "metadata": {},
   "source": [
    "* Exploring length column and display the distribution plot for the length"
   ]
  },
  {
   "cell_type": "code",
   "execution_count": 22,
   "metadata": {},
   "outputs": [],
   "source": [
    "length_count = spark.sql('''\n",
    "        SELECT length\n",
    "        FROM Sparkify_valid\n",
    "''')"
   ]
  },
  {
   "cell_type": "code",
   "execution_count": 23,
   "metadata": {},
   "outputs": [
    {
     "data": {
      "image/png": "[encoded data removed]",
      "text/plain": [
       "<matplotlib.figure.Figure at 0x7f6890bee0b8>"
      ]
     },
     "metadata": {},
     "output_type": "display_data"
    }
   ],
   "source": [
    "sns.distplot(length_count.toPandas().dropna());"
   ]
  },
  {
   "cell_type": "markdown",
   "metadata": {},
   "source": [
    "* Exploring level of users from the dataset"
   ]
  },
  {
   "cell_type": "code",
   "execution_count": 24,
   "metadata": {},
   "outputs": [
    {
     "name": "stdout",
     "output_type": "stream",
     "text": [
      "+-----+----------+\n",
      "|level|user_count|\n",
      "+-----+----------+\n",
      "| free|       195|\n",
      "| paid|       165|\n",
      "+-----+----------+\n",
      "\n"
     ]
    }
   ],
   "source": [
    "level_count = spark.sql('''\n",
    "        SELECT level, COUNT(DISTINCT userId) AS user_count\n",
    "        FROM Sparkify_valid\n",
    "        GROUP BY level\n",
    "        ORDER BY user_count DESC\n",
    "''')\n",
    "level_count.show()"
   ]
  },
  {
   "cell_type": "markdown",
   "metadata": {},
   "source": [
    "* Exploring the top 5 location of users distribution"
   ]
  },
  {
   "cell_type": "code",
   "execution_count": 25,
   "metadata": {},
   "outputs": [
    {
     "name": "stdout",
     "output_type": "stream",
     "text": [
      "+--------------------+----------+\n",
      "|            location|user_count|\n",
      "+--------------------+----------+\n",
      "|Los Angeles-Long ...|        16|\n",
      "|New York-Newark-J...|        15|\n",
      "|Dallas-Fort Worth...|         7|\n",
      "|Phoenix-Mesa-Scot...|         7|\n",
      "|    St. Louis, MO-IL|         6|\n",
      "|Chicago-Napervill...|         6|\n",
      "|Charlotte-Concord...|         6|\n",
      "|Philadelphia-Camd...|         5|\n",
      "|Miami-Fort Lauder...|         5|\n",
      "|Boston-Cambridge-...|         5|\n",
      "|Atlanta-Sandy Spr...|         4|\n",
      "|Washington-Arling...|         4|\n",
      "|Houston-The Woodl...|         4|\n",
      "|San Diego-Carlsba...|         3|\n",
      "|Las Vegas-Henders...|         3|\n",
      "|New Haven-Milford...|         3|\n",
      "|Providence-Warwic...|         2|\n",
      "|San Antonio-New B...|         2|\n",
      "|Indianapolis-Carm...|         2|\n",
      "|         Jackson, MS|         2|\n",
      "+--------------------+----------+\n",
      "only showing top 20 rows\n",
      "\n"
     ]
    }
   ],
   "source": [
    "location_count = spark.sql('''\n",
    "        SELECT location, COUNT(DISTINCT userId) AS user_count\n",
    "        FROM Sparkify_valid\n",
    "        GROUP BY location\n",
    "        ORDER BY user_count DESC\n",
    "''')\n",
    "location_count.show()"
   ]
  },
  {
   "cell_type": "markdown",
   "metadata": {},
   "source": [
    "* Exploring the page infomation of users"
   ]
  },
  {
   "cell_type": "code",
   "execution_count": 26,
   "metadata": {},
   "outputs": [
    {
     "name": "stdout",
     "output_type": "stream",
     "text": [
      "+--------------------+----------+\n",
      "|                page|user_count|\n",
      "+--------------------+----------+\n",
      "|            NextSong|       225|\n",
      "|                Home|       223|\n",
      "|           Thumbs Up|       220|\n",
      "|     Add to Playlist|       215|\n",
      "|              Logout|       213|\n",
      "|         Roll Advert|       207|\n",
      "|          Add Friend|       206|\n",
      "|         Thumbs Down|       203|\n",
      "|            Settings|       195|\n",
      "|                Help|       192|\n",
      "|             Upgrade|       168|\n",
      "|               About|       155|\n",
      "|           Downgrade|       154|\n",
      "|       Save Settings|       132|\n",
      "|      Submit Upgrade|       131|\n",
      "|               Error|       117|\n",
      "|              Cancel|        52|\n",
      "|Cancellation Conf...|        52|\n",
      "|    Submit Downgrade|        49|\n",
      "+--------------------+----------+\n",
      "\n"
     ]
    }
   ],
   "source": [
    "page_count = spark.sql('''\n",
    "        SELECT page, COUNT(DISTINCT userId) AS user_count\n",
    "        FROM Sparkify_valid\n",
    "        GROUP BY page\n",
    "        ORDER BY user_count DESC\n",
    "''')\n",
    "page_count.show()"
   ]
  },
  {
   "cell_type": "markdown",
   "metadata": {},
   "source": [
    "* Exploring the userAgent (platforms) of users preference"
   ]
  },
  {
   "cell_type": "code",
   "execution_count": 27,
   "metadata": {},
   "outputs": [],
   "source": [
    "def get_browser(x):\n",
    "    if 'Firefox' in x:\n",
    "        return 'Firefox'\n",
    "    elif 'Safari' in x:\n",
    "        if 'Chrome' in x:\n",
    "            return 'Chrome'\n",
    "        else:\n",
    "            return 'Safari'\n",
    "    elif 'Trident' in x:\n",
    "        return 'IE'\n",
    "    else:\n",
    "        return 'Others'"
   ]
  },
  {
   "cell_type": "code",
   "execution_count": 28,
   "metadata": {},
   "outputs": [],
   "source": [
    "def get_platform(x):\n",
    "    if ('compatible' in x) or ('Windows' in x):\n",
    "        return 'Windows'\n",
    "    elif 'iPhone' in x:\n",
    "        return 'iPhone'\n",
    "    elif 'iPad' in x:\n",
    "        return 'iPad'\n",
    "    elif 'X11' in x:\n",
    "        return 'Linux'\n",
    "    elif 'Macintosh' in x:\n",
    "        return 'Mac'\n",
    "    else:\n",
    "        return 'Others'"
   ]
  },
  {
   "cell_type": "code",
   "execution_count": 29,
   "metadata": {},
   "outputs": [],
   "source": [
    "userAgent_count = spark.sql('''\n",
    "        SELECT userAgent, COUNT(DISTINCT userId) AS user_count\n",
    "        FROM Sparkify_valid\n",
    "        GROUP BY userAgent\n",
    "        ORDER BY user_count DESC\n",
    "''').toPandas()"
   ]
  },
  {
   "cell_type": "code",
   "execution_count": 30,
   "metadata": {},
   "outputs": [],
   "source": [
    "userAgent_count = userAgent_count.dropna()"
   ]
  },
  {
   "cell_type": "code",
   "execution_count": 31,
   "metadata": {},
   "outputs": [],
   "source": [
    "userAgent_count['browser'] = userAgent_count['userAgent'].apply(get_browser)"
   ]
  },
  {
   "cell_type": "code",
   "execution_count": 32,
   "metadata": {},
   "outputs": [],
   "source": [
    "userAgent_count['platform'] = userAgent_count['userAgent'].apply(get_platform)"
   ]
  },
  {
   "cell_type": "code",
   "execution_count": 33,
   "metadata": {},
   "outputs": [
    {
     "data": {
      "text/plain": [
       "<matplotlib.axes._subplots.AxesSubplot at 0x7f685e124cf8>"
      ]
     },
     "execution_count": 33,
     "metadata": {},
     "output_type": "execute_result"
    },
    {
     "data": {
      "image/png": "[encoded data removed]",
      "text/plain": [
       "<matplotlib.figure.Figure at 0x7f685e11b438>"
      ]
     },
     "metadata": {},
     "output_type": "display_data"
    }
   ],
   "source": [
    "sns.barplot(x='browser',y='user_count', data=userAgent_count)"
   ]
  },
  {
   "cell_type": "code",
   "execution_count": 34,
   "metadata": {},
   "outputs": [
    {
     "data": {
      "text/plain": [
       "<matplotlib.axes._subplots.AxesSubplot at 0x7f6865943b00>"
      ]
     },
     "execution_count": 34,
     "metadata": {},
     "output_type": "execute_result"
    },
    {
     "data": {
      "image/png": "[encoded data removed]",
      "text/plain": [
       "<matplotlib.figure.Figure at 0x7f685e47b2e8>"
      ]
     },
     "metadata": {},
     "output_type": "display_data"
    }
   ],
   "source": [
    "sns.barplot(x='platform',y='user_count', data=userAgent_count)"
   ]
  },
  {
   "cell_type": "markdown",
   "metadata": {},
   "source": [
    "* Exploring the time statistics in users"
   ]
  },
  {
   "cell_type": "code",
   "execution_count": 35,
   "metadata": {},
   "outputs": [
    {
     "data": {
      "text/plain": [
       "[Row(artist='Martha Tilston', auth='Logged In', firstName='Colin', gender='M', itemInSession=50, lastName='Freeman', length=277.89016, level='paid', location='Bakersfield, CA', method='PUT', page='NextSong', registration=1538173362000, sessionId=29, song='Rockpools', status=200, ts=1538352117000, userAgent='Mozilla/5.0 (Windows NT 6.1; WOW64; rv:31.0) Gecko/20100101 Firefox/31.0', userId='30', timestamp='2018-10-01 00:01:57')]"
      ]
     },
     "execution_count": 35,
     "metadata": {},
     "output_type": "execute_result"
    }
   ],
   "source": [
    "df_valid.take(1)"
   ]
  },
  {
   "cell_type": "code",
   "execution_count": 36,
   "metadata": {},
   "outputs": [],
   "source": [
    "hour_data = spark.sql('''\n",
    "        SELECT hour(timestamp) AS hour, COUNT(DISTINCT userId) AS user_count\n",
    "        FROM Sparkify_valid\n",
    "        GROUP BY hour\n",
    "        ORDER BY user_count DESC\n",
    "''').toPandas()"
   ]
  },
  {
   "cell_type": "code",
   "execution_count": 37,
   "metadata": {},
   "outputs": [],
   "source": [
    "weekday_data = spark.sql('''\n",
    "        SELECT dayofweek(timestamp) AS weekday, COUNT(DISTINCT userId) AS user_count\n",
    "        FROM Sparkify_valid\n",
    "        GROUP BY weekday\n",
    "        ORDER BY user_count DESC\n",
    "''').toPandas()"
   ]
  },
  {
   "cell_type": "code",
   "execution_count": 38,
   "metadata": {},
   "outputs": [],
   "source": [
    "monthday_data = spark.sql('''\n",
    "        SELECT dayofmonth(timestamp) AS monthday, COUNT(DISTINCT userId) AS user_count\n",
    "        FROM Sparkify_valid\n",
    "        GROUP BY monthday\n",
    "        ORDER BY user_count DESC\n",
    "''').toPandas()"
   ]
  },
  {
   "cell_type": "code",
   "execution_count": 39,
   "metadata": {},
   "outputs": [],
   "source": [
    "month_data = spark.sql('''\n",
    "        SELECT month(timestamp) AS month, COUNT(DISTINCT userId) AS user_count\n",
    "        FROM Sparkify_valid\n",
    "        GROUP BY month\n",
    "        ORDER BY user_count DESC\n",
    "''').toPandas()"
   ]
  },
  {
   "cell_type": "code",
   "execution_count": 40,
   "metadata": {},
   "outputs": [
    {
     "data": {
      "text/plain": [
       "<matplotlib.axes._subplots.AxesSubplot at 0x7f686591e748>"
      ]
     },
     "execution_count": 40,
     "metadata": {},
     "output_type": "execute_result"
    },
    {
     "data": {
      "image/png": "[encoded data removed]",
      "text/plain": [
       "<matplotlib.figure.Figure at 0x7f686588e278>"
      ]
     },
     "metadata": {},
     "output_type": "display_data"
    }
   ],
   "source": [
    "sns.barplot(x='hour',y='user_count', data=hour_data)"
   ]
  },
  {
   "cell_type": "code",
   "execution_count": 41,
   "metadata": {},
   "outputs": [
    {
     "data": {
      "text/plain": [
       "<matplotlib.axes._subplots.AxesSubplot at 0x7f68658ff898>"
      ]
     },
     "execution_count": 41,
     "metadata": {},
     "output_type": "execute_result"
    },
    {
     "data": {
      "image/png": "[encoded data removed]",
      "text/plain": [
       "<matplotlib.figure.Figure at 0x7f68657cadd8>"
      ]
     },
     "metadata": {},
     "output_type": "display_data"
    }
   ],
   "source": [
    "sns.barplot(x='weekday',y='user_count', data=weekday_data)"
   ]
  },
  {
   "cell_type": "code",
   "execution_count": 42,
   "metadata": {},
   "outputs": [
    {
     "data": {
      "text/plain": [
       "<matplotlib.axes._subplots.AxesSubplot at 0x7f686574ac18>"
      ]
     },
     "execution_count": 42,
     "metadata": {},
     "output_type": "execute_result"
    },
    {
     "data": {
      "image/png": "[encoded data removed]",
      "text/plain": [
       "<matplotlib.figure.Figure at 0x7f6865879eb8>"
      ]
     },
     "metadata": {},
     "output_type": "display_data"
    }
   ],
   "source": [
    "sns.barplot(x='monthday',y='user_count', data=monthday_data)"
   ]
  },
  {
   "cell_type": "code",
   "execution_count": 43,
   "metadata": {},
   "outputs": [
    {
     "data": {
      "text/plain": [
       "<matplotlib.axes._subplots.AxesSubplot at 0x7f68655a5908>"
      ]
     },
     "execution_count": 43,
     "metadata": {},
     "output_type": "execute_result"
    },
    {
     "data": {
      "image/png": "[encoded data removed]",
      "text/plain": [
       "<matplotlib.figure.Figure at 0x7f68658edba8>"
      ]
     },
     "metadata": {},
     "output_type": "display_data"
    }
   ],
   "source": [
    "sns.barplot(x='month',y='user_count', data=month_data)"
   ]
  },
  {
   "cell_type": "markdown",
   "metadata": {},
   "source": [
    "### Define Churn\n",
    "\n",
    "Once you've done some preliminary analysis, create a column `Churn` to use as the label for your model. I suggest using the `Cancellation Confirmation` events to define your churn, which happen for both paid and free users. As a bonus task, you can also look into the `Downgrade` events."
   ]
  },
  {
   "cell_type": "code",
   "execution_count": 44,
   "metadata": {},
   "outputs": [],
   "source": [
    "#define the churn event flag lambda function\n",
    "flag_churn_event = udf(lambda x: 1 if x == 'Cancellation Confirmation' else 0, IntegerType())"
   ]
  },
  {
   "cell_type": "code",
   "execution_count": 45,
   "metadata": {},
   "outputs": [],
   "source": [
    "#define the churn column and corresponding status\n",
    "df_valid = df_valid.withColumn(\"churn_flag\", flag_churn_event(\"page\"))"
   ]
  },
  {
   "cell_type": "code",
   "execution_count": 46,
   "metadata": {},
   "outputs": [
    {
     "data": {
      "text/plain": [
       "Row(artist='Martha Tilston', auth='Logged In', firstName='Colin', gender='M', itemInSession=50, lastName='Freeman', length=277.89016, level='paid', location='Bakersfield, CA', method='PUT', page='NextSong', registration=1538173362000, sessionId=29, song='Rockpools', status=200, ts=1538352117000, userAgent='Mozilla/5.0 (Windows NT 6.1; WOW64; rv:31.0) Gecko/20100101 Firefox/31.0', userId='30', timestamp='2018-10-01 00:01:57', churn_flag=0)"
      ]
     },
     "execution_count": 46,
     "metadata": {},
     "output_type": "execute_result"
    }
   ],
   "source": [
    "df_valid.head()"
   ]
  },
  {
   "cell_type": "code",
   "execution_count": 47,
   "metadata": {},
   "outputs": [],
   "source": [
    "#mark the user who have churned event\n",
    "windowval = Window.partitionBy(\"userId\").orderBy(desc(\"ts\")).rangeBetween(Window.unboundedPreceding, 0)"
   ]
  },
  {
   "cell_type": "code",
   "execution_count": 48,
   "metadata": {},
   "outputs": [],
   "source": [
    "df_valid = df_valid.withColumn(\"churn\", Fsum(\"churn_flag\").over(windowval))"
   ]
  },
  {
   "cell_type": "code",
   "execution_count": 49,
   "metadata": {},
   "outputs": [
    {
     "data": {
      "text/plain": [
       "[Row(artist=None, auth='Logged In', firstName='Darianna', gender='F', itemInSession=34, lastName='Carpenter', length=0.0, level='free', location='Bridgeport-Stamford-Norwalk, CT', method='PUT', page='Logout', registration=1538016340000, sessionId=187, song=None, status=307, ts=1542823952000, userAgent='\"Mozilla/5.0 (iPhone; CPU iPhone OS 7_1_2 like Mac OS X) AppleWebKit/537.51.2 (KHTML, like Gecko) Version/7.0 Mobile/11D257 Safari/9537.53\"', userId='100010', timestamp='2018-11-21 18:12:32', churn_flag=0, churn=0)]"
      ]
     },
     "execution_count": 49,
     "metadata": {},
     "output_type": "execute_result"
    }
   ],
   "source": [
    "df_valid.take(1)"
   ]
  },
  {
   "cell_type": "markdown",
   "metadata": {},
   "source": [
    "### Explore Data\n",
    "Once you've defined churn, perform some exploratory data analysis to observe the behavior for users who stayed vs users who churned. You can start by exploring aggregates on these two groups of users, observing how much of a specific action they experienced per a certain time unit or number of songs played."
   ]
  },
  {
   "cell_type": "code",
   "execution_count": 50,
   "metadata": {},
   "outputs": [],
   "source": [
    "#Create a temporary view to perform SQL operations\n",
    "df_valid.createOrReplaceTempView(\"Sparkify_valid_churn\")"
   ]
  },
  {
   "cell_type": "code",
   "execution_count": 51,
   "metadata": {},
   "outputs": [
    {
     "name": "stdout",
     "output_type": "stream",
     "text": [
      "+-----+----------+\n",
      "|churn|user_count|\n",
      "+-----+----------+\n",
      "|    0|       173|\n",
      "|    1|        52|\n",
      "+-----+----------+\n",
      "\n"
     ]
    }
   ],
   "source": [
    "#Check the active users and the churned users\n",
    "churn_data = spark.sql('''\n",
    "        SELECT churn, COUNT(DISTINCT userId) AS user_count\n",
    "        FROM Sparkify_valid_churn\n",
    "        GROUP BY churn\n",
    "        ORDER BY user_count DESC\n",
    "''')\n",
    "churn_data.show()"
   ]
  },
  {
   "cell_type": "code",
   "execution_count": 52,
   "metadata": {},
   "outputs": [
    {
     "data": {
      "text/plain": [
       "<matplotlib.axes._subplots.AxesSubplot at 0x7f6865543c88>"
      ]
     },
     "execution_count": 52,
     "metadata": {},
     "output_type": "execute_result"
    },
    {
     "data": {
      "image/png": "[encoded data removed]",
      "text/plain": [
       "<matplotlib.figure.Figure at 0x7f685e441a90>"
      ]
     },
     "metadata": {},
     "output_type": "display_data"
    }
   ],
   "source": [
    "sns.barplot(x='churn',y='user_count', data=churn_data.toPandas())"
   ]
  },
  {
   "cell_type": "code",
   "execution_count": 53,
   "metadata": {},
   "outputs": [],
   "source": [
    "gender_churn = spark.sql('''\n",
    "        SELECT churn, gender, COUNT(DISTINCT userId) AS user_count\n",
    "        FROM Sparkify_valid_churn\n",
    "        GROUP BY churn, gender\n",
    "        ORDER BY user_count DESC\n",
    "''').toPandas()"
   ]
  },
  {
   "cell_type": "code",
   "execution_count": 54,
   "metadata": {},
   "outputs": [
    {
     "data": {
      "text/plain": [
       "<matplotlib.axes._subplots.AxesSubplot at 0x7f6865510ac8>"
      ]
     },
     "execution_count": 54,
     "metadata": {},
     "output_type": "execute_result"
    },
    {
     "data": {
      "image/png": "[encoded data removed]",
      "text/plain": [
       "<matplotlib.figure.Figure at 0x7f6865538518>"
      ]
     },
     "metadata": {},
     "output_type": "display_data"
    }
   ],
   "source": [
    "sns.barplot(x='churn',y='user_count', hue='gender', data=gender_churn)"
   ]
  },
  {
   "cell_type": "code",
   "execution_count": 55,
   "metadata": {},
   "outputs": [
    {
     "name": "stdout",
     "output_type": "stream",
     "text": [
      "+-----+------------------+------------------+-----------+-----------+\n",
      "|churn|            avglen|         stddevlen|max(length)|min(length)|\n",
      "+-----+------------------+------------------+-----------+-----------+\n",
      "|    0|204.79609148240368|130.72565173739812| 3024.66567|        0.0|\n",
      "|    1|201.69271497570438| 134.0569567109882| 3024.66567|        0.0|\n",
      "+-----+------------------+------------------+-----------+-----------+\n",
      "\n"
     ]
    }
   ],
   "source": [
    "spark.sql('''\n",
    "        SELECT churn, AVG(length) AS avglen, STDDEV(length) AS stddevlen, MAX(length), MIN(length)\n",
    "        FROM Sparkify_valid_churn\n",
    "        GROUP BY churn\n",
    "''').show()"
   ]
  },
  {
   "cell_type": "code",
   "execution_count": 56,
   "metadata": {
    "scrolled": true
   },
   "outputs": [
    {
     "name": "stdout",
     "output_type": "stream",
     "text": [
      "+-----+-----+----------+\n",
      "|churn|level|user_count|\n",
      "+-----+-----+----------+\n",
      "|    1| paid|        36|\n",
      "|    1| free|        46|\n",
      "|    0| free|       149|\n",
      "|    0| paid|       129|\n",
      "+-----+-----+----------+\n",
      "\n"
     ]
    }
   ],
   "source": [
    "spark.sql('''\n",
    "        SELECT churn, level, COUNT(DISTINCT userId) AS user_count\n",
    "        FROM Sparkify_valid_churn\n",
    "        GROUP BY churn, level\n",
    "''').show()"
   ]
  },
  {
   "cell_type": "code",
   "execution_count": 57,
   "metadata": {},
   "outputs": [
    {
     "name": "stdout",
     "output_type": "stream",
     "text": [
      "+-----+--------------------+------+\n",
      "|churn|                page| count|\n",
      "+-----+--------------------+------+\n",
      "|    1|               About|    56|\n",
      "|    0|               About|   439|\n",
      "|    1|          Add Friend|   636|\n",
      "|    0|          Add Friend|  3641|\n",
      "|    1|     Add to Playlist|  1038|\n",
      "|    0|     Add to Playlist|  5488|\n",
      "|    1|              Cancel|    52|\n",
      "|    1|Cancellation Conf...|    52|\n",
      "|    1|           Downgrade|   337|\n",
      "|    0|           Downgrade|  1718|\n",
      "|    1|               Error|    32|\n",
      "|    0|               Error|   220|\n",
      "|    1|                Help|   239|\n",
      "|    0|                Help|  1215|\n",
      "|    1|                Home|  1672|\n",
      "|    0|                Home|  8410|\n",
      "|    1|              Logout|   553|\n",
      "|    0|              Logout|  2673|\n",
      "|    1|            NextSong| 36394|\n",
      "|    0|            NextSong|191714|\n",
      "|    1|         Roll Advert|   967|\n",
      "|    0|         Roll Advert|  2966|\n",
      "|    1|       Save Settings|    58|\n",
      "|    0|       Save Settings|   252|\n",
      "|    1|            Settings|   270|\n",
      "|    0|            Settings|  1244|\n",
      "|    1|    Submit Downgrade|     9|\n",
      "|    0|    Submit Downgrade|    54|\n",
      "|    1|      Submit Upgrade|    32|\n",
      "|    0|      Submit Upgrade|   127|\n",
      "|    1|         Thumbs Down|   496|\n",
      "|    0|         Thumbs Down|  2050|\n",
      "|    1|           Thumbs Up|  1859|\n",
      "|    0|           Thumbs Up| 10692|\n",
      "|    1|             Upgrade|   112|\n",
      "|    0|             Upgrade|   387|\n",
      "+-----+--------------------+------+\n",
      "\n"
     ]
    }
   ],
   "source": [
    "spark.sql('''\n",
    "        SELECT churn, page, COUNT(page) AS count\n",
    "        FROM Sparkify_valid_churn\n",
    "        GROUP BY churn, page\n",
    "        ORDER BY page, count\n",
    "''').show(100)"
   ]
  },
  {
   "cell_type": "code",
   "execution_count": 58,
   "metadata": {},
   "outputs": [],
   "source": [
    "userAgent_count = spark.sql('''\n",
    "        SELECT churn, userAgent, COUNT(DISTINCT userId) AS user_count\n",
    "        FROM Sparkify_valid_churn\n",
    "        GROUP BY churn, userAgent\n",
    "        ORDER BY user_count DESC\n",
    "''').toPandas()"
   ]
  },
  {
   "cell_type": "code",
   "execution_count": 59,
   "metadata": {},
   "outputs": [],
   "source": [
    "userAgent_count = userAgent_count.dropna()"
   ]
  },
  {
   "cell_type": "code",
   "execution_count": 60,
   "metadata": {},
   "outputs": [],
   "source": [
    "userAgent_count['browser'] = userAgent_count['userAgent'].apply(get_browser)\n",
    "userAgent_count['platform'] = userAgent_count['userAgent'].apply(get_platform)"
   ]
  },
  {
   "cell_type": "code",
   "execution_count": 61,
   "metadata": {},
   "outputs": [
    {
     "data": {
      "text/plain": [
       "<matplotlib.axes._subplots.AxesSubplot at 0x7f686547d7f0>"
      ]
     },
     "execution_count": 61,
     "metadata": {},
     "output_type": "execute_result"
    },
    {
     "data": {
      "image/png": "[encoded data removed]",
      "text/plain": [
       "<matplotlib.figure.Figure at 0x7f68654b47b8>"
      ]
     },
     "metadata": {},
     "output_type": "display_data"
    }
   ],
   "source": [
    "sns.barplot(x='browser',y='user_count', hue='churn', data=userAgent_count)"
   ]
  },
  {
   "cell_type": "code",
   "execution_count": 62,
   "metadata": {},
   "outputs": [
    {
     "data": {
      "text/plain": [
       "<matplotlib.axes._subplots.AxesSubplot at 0x7f686540c5f8>"
      ]
     },
     "execution_count": 62,
     "metadata": {},
     "output_type": "execute_result"
    },
    {
     "data": {
      "image/png": "[encoded data removed]",
      "text/plain": [
       "<matplotlib.figure.Figure at 0x7f68655e6390>"
      ]
     },
     "metadata": {},
     "output_type": "display_data"
    }
   ],
   "source": [
    "sns.barplot(x='platform',y='user_count', hue='churn', data=userAgent_count)"
   ]
  },
  {
   "cell_type": "code",
   "execution_count": 63,
   "metadata": {},
   "outputs": [],
   "source": [
    "hour_data = spark.sql('''\n",
    "        SELECT churn, hour(timestamp) AS hour, COUNT(churn) AS count\n",
    "        FROM Sparkify_valid_churn\n",
    "        GROUP BY churn, hour\n",
    "''').toPandas()"
   ]
  },
  {
   "cell_type": "code",
   "execution_count": 64,
   "metadata": {},
   "outputs": [],
   "source": [
    "weekday_data = spark.sql('''\n",
    "        SELECT churn, dayofweek(timestamp) AS weekday, COUNT(churn) AS count\n",
    "        FROM Sparkify_valid_churn\n",
    "        GROUP BY churn, weekday\n",
    "''').toPandas()"
   ]
  },
  {
   "cell_type": "code",
   "execution_count": 66,
   "metadata": {},
   "outputs": [],
   "source": [
    "month_data = spark.sql('''\n",
    "        SELECT churn, month(timestamp) AS month, COUNT(churn) AS count\n",
    "        FROM Sparkify_valid_churn\n",
    "        GROUP BY churn, month\n",
    "''').toPandas()"
   ]
  },
  {
   "cell_type": "code",
   "execution_count": 67,
   "metadata": {},
   "outputs": [
    {
     "data": {
      "text/plain": [
       "<matplotlib.axes._subplots.AxesSubplot at 0x7f68654a0198>"
      ]
     },
     "execution_count": 67,
     "metadata": {},
     "output_type": "execute_result"
    },
    {
     "data": {
      "image/png": "[encoded data removed]",
      "text/plain": [
       "<matplotlib.figure.Figure at 0x7f6865393b70>"
      ]
     },
     "metadata": {},
     "output_type": "display_data"
    }
   ],
   "source": [
    "sns.barplot(x='hour',y='count', hue='churn', data=hour_data)"
   ]
  },
  {
   "cell_type": "code",
   "execution_count": 68,
   "metadata": {},
   "outputs": [
    {
     "data": {
      "text/plain": [
       "<matplotlib.axes._subplots.AxesSubplot at 0x7f68651d9630>"
      ]
     },
     "execution_count": 68,
     "metadata": {},
     "output_type": "execute_result"
    },
    {
     "data": {
      "image/png": "[encoded data removed]",
      "text/plain": [
       "<matplotlib.figure.Figure at 0x7f68651c39b0>"
      ]
     },
     "metadata": {},
     "output_type": "display_data"
    }
   ],
   "source": [
    "sns.barplot(x='weekday',y='count', hue='churn', data=weekday_data)"
   ]
  },
  {
   "cell_type": "code",
   "execution_count": 69,
   "metadata": {},
   "outputs": [
    {
     "data": {
      "text/plain": [
       "<matplotlib.axes._subplots.AxesSubplot at 0x7f686542c390>"
      ]
     },
     "execution_count": 69,
     "metadata": {},
     "output_type": "execute_result"
    },
    {
     "data": {
      "image/png": "[encoded data removed]",
      "text/plain": [
       "<matplotlib.figure.Figure at 0x7f68651455c0>"
      ]
     },
     "metadata": {},
     "output_type": "display_data"
    }
   ],
   "source": [
    "sns.barplot(x='month',y='count', hue='churn', data=month_data)"
   ]
  },
  {
   "cell_type": "markdown",
   "metadata": {},
   "source": [
    "# Feature Engineering\n",
    "Once you've familiarized yourself with the data, build out the features you find promising to train your model on. To work with the full dataset, you can follow the following steps.\n",
    "- Write a script to extract the necessary features from the smaller subset of data\n",
    "- Ensure that your script is scalable, using the best practices discussed in Lesson 3\n",
    "- Try your script on the full data set, debugging your script if necessary\n",
    "\n",
    "If you are working in the classroom workspace, you can just extract features based on the small subset of data contained here. Be sure to transfer over this work to the larger dataset when you work on your Spark cluster."
   ]
  },
  {
   "cell_type": "markdown",
   "metadata": {},
   "source": [
    "### Features Instructions\n",
    "From the above schema of the dataset and the prelimnary data analysis, the significant features can be categorized as:\n",
    "* Numerical Features:\n",
    "    * mean, stddev, max and min of length\n",
    "    * some options of pages: Downgrade, NextSong, ThumbsUp, AddtoPlaylist, Home, RollAdvert, AddFriend\n",
    "    * hour\n",
    "    * month\n",
    "    * weekday\n",
    "* Categorical Features:\n",
    "    * gender\n",
    "    * level\n",
    "    * browser\n",
    "    * platform"
   ]
  },
  {
   "cell_type": "markdown",
   "metadata": {},
   "source": [
    "### Categorical Features: label encoding"
   ]
  },
  {
   "cell_type": "code",
   "execution_count": 70,
   "metadata": {},
   "outputs": [],
   "source": [
    "get_browser = udf(get_browser)\n",
    "get_platform = udf(get_platform)"
   ]
  },
  {
   "cell_type": "code",
   "execution_count": 71,
   "metadata": {},
   "outputs": [],
   "source": [
    "df_valid = df_valid.withColumn(\"browser\", get_browser(df_valid.userAgent))\n",
    "df_valid = df_valid.withColumn(\"platform\", get_platform(df_valid.userAgent))"
   ]
  },
  {
   "cell_type": "code",
   "execution_count": 72,
   "metadata": {},
   "outputs": [],
   "source": [
    "# label_encoding code reference: https://github.com/CapAllen/Sparkify/blob/master/Sparkify.ipynb\n",
    "def label_encoding(df, col_name):\n",
    "    '''\n",
    "    transform categorical items to number\n",
    "    '''\n",
    "    temp = df.select([col_name]).dropDuplicates().toPandas()\n",
    "    label_dict = {val:str(idx) for idx,val in enumerate(temp[col_name].tolist())}\n",
    "    result = df.dropDuplicates(['userId']).select(['userId',col_name]).replace(label_dict,subset=col_name)\n",
    "    return result"
   ]
  },
  {
   "cell_type": "code",
   "execution_count": 73,
   "metadata": {},
   "outputs": [],
   "source": [
    "encode_gender = label_encoding(df_valid, 'gender')\n",
    "encode_level = label_encoding(df_valid, 'level')\n",
    "encode_browser = label_encoding(df_valid, 'browser')\n",
    "encode_platform = label_encoding(df_valid, 'platform')"
   ]
  },
  {
   "cell_type": "code",
   "execution_count": 74,
   "metadata": {},
   "outputs": [],
   "source": [
    "cat_features = encode_gender.join(encode_level, on='userId',how='inner').\\\n",
    "                            join(encode_browser, on='userId',how='inner').\\\n",
    "                            join(encode_platform, on='userId',how='inner')"
   ]
  },
  {
   "cell_type": "code",
   "execution_count": 75,
   "metadata": {},
   "outputs": [
    {
     "name": "stdout",
     "output_type": "stream",
     "text": [
      "+------+------+-----+-------+--------+\n",
      "|userId|gender|level|browser|platform|\n",
      "+------+------+-----+-------+--------+\n",
      "|100010|     0|    0|      1|       1|\n",
      "|200002|     1|    0|      1|       1|\n",
      "|   125|     1|    0|      3|       3|\n",
      "|   124|     0|    1|      3|       3|\n",
      "|    51|     1|    1|      3|       4|\n",
      "+------+------+-----+-------+--------+\n",
      "only showing top 5 rows\n",
      "\n"
     ]
    }
   ],
   "source": [
    "cat_features.show(5)"
   ]
  },
  {
   "cell_type": "markdown",
   "metadata": {},
   "source": [
    "###  Numerical Features"
   ]
  },
  {
   "cell_type": "code",
   "execution_count": 76,
   "metadata": {},
   "outputs": [],
   "source": [
    "#pivot table, reference url:https://stackoverflow.com/questions/56051438/pivot-table-in-pyspark\n",
    "def get_pivot_table(colname, col_count, pivot_cols):\n",
    "    col_pivot = col_count.groupby('userId').pivot(colname).agg(first('count')).fillna(0).select(pivot_cols)\n",
    "    \n",
    "    return col_pivot"
   ]
  },
  {
   "cell_type": "code",
   "execution_count": 77,
   "metadata": {},
   "outputs": [],
   "source": [
    "def numerical_features():\n",
    "    length_feature = spark.sql('''\n",
    "    SELECT userId, AVG(length) AS avglen, STDDEV(length) AS stddevlen, MAX(length), MIN(length)\n",
    "    FROM Sparkify_valid_churn\n",
    "    GROUP BY userId\n",
    "        ''')\n",
    "    \n",
    "    page_count = spark.sql('''\n",
    "    SELECT userId, page, COUNT(userId) AS count\n",
    "    FROM Sparkify_valid_churn\n",
    "    GROUP BY userId, page\n",
    "        ''')\n",
    "    page_cols = ['userId', 'Downgrade', 'NextSong', 'Thumbs Up', 'Add to Playlist', 'Home', 'Roll Advert', 'Add Friend']\n",
    "    page_pivot = get_pivot_table('page', page_count, page_cols)\n",
    "    \n",
    "    # timestamp hour\n",
    "    hour_count = spark.sql('''\n",
    "        SELECT userId, hour(timestamp) AS hour, COUNT(userId) AS count\n",
    "        FROM Sparkify_valid_churn\n",
    "        GROUP BY userId, hour\n",
    "''')\n",
    "    pivot_cols = ['userId']\n",
    "    for i in range(0, 24):\n",
    "        pivot_cols.append(str(i))\n",
    "    hour_pivot = get_pivot_table('hour', hour_count, pivot_cols)\n",
    "    \n",
    "    # timestamp weekday\n",
    "    weekday_count = spark.sql('''\n",
    "        SELECT userId, date_format(timestamp, \"EEE\") AS weekday, COUNT(userId) AS count\n",
    "        FROM Sparkify_valid_churn\n",
    "        GROUP BY userId, weekday\n",
    "''')\n",
    "    pivot_cols = ['userId', 'Sun', 'Mon', 'Tue', 'Wed', 'Thu', 'Fri', 'Sat']\n",
    "    weekday_pivot = get_pivot_table('weekday', weekday_count, pivot_cols)\n",
    "    \n",
    "    # timestamp month\n",
    "    month_count = spark.sql('''\n",
    "        SELECT userId, date_format(timestamp, \"MMM\") AS month, COUNT(userId) AS count\n",
    "        FROM Sparkify_valid_churn\n",
    "        GROUP BY userId, month\n",
    "''')\n",
    "    pivot_cols = ['userId', 'Oct', 'Nov', 'Dec']\n",
    "    month_pivot = get_pivot_table('month', month_count, pivot_cols)\n",
    "    \n",
    "    result = length_feature.join(page_pivot,on='userId',how='inner').\\\n",
    "                        join(hour_pivot,on='userId',how='inner').\\\n",
    "                        join(weekday_pivot,on='userId',how='inner').\\\n",
    "                        join(month_pivot,on='userId',how='inner')\n",
    "    \n",
    "    return result"
   ]
  },
  {
   "cell_type": "markdown",
   "metadata": {},
   "source": [
    "### Churn"
   ]
  },
  {
   "cell_type": "code",
   "execution_count": 78,
   "metadata": {},
   "outputs": [],
   "source": [
    "churn = spark.sql('''\n",
    "    SELECT DISTINCT userId, churn\n",
    "    FROM Sparkify_valid_churn\n",
    "        ''')"
   ]
  },
  {
   "cell_type": "code",
   "execution_count": 79,
   "metadata": {},
   "outputs": [],
   "source": [
    "def get_training_data():\n",
    "    num_features = numerical_features()\n",
    "    result = cat_features.join(num_features,on='userId',how='inner').\\\n",
    "                        join(churn,on='userId',how='inner')\n",
    "    \n",
    "    return result"
   ]
  },
  {
   "cell_type": "code",
   "execution_count": 80,
   "metadata": {},
   "outputs": [],
   "source": [
    "model_data = get_training_data()"
   ]
  },
  {
   "cell_type": "code",
   "execution_count": 83,
   "metadata": {},
   "outputs": [],
   "source": [
    "model_data_pd = model_data.toPandas()"
   ]
  },
  {
   "cell_type": "code",
   "execution_count": 84,
   "metadata": {},
   "outputs": [
    {
     "data": {
      "text/plain": [
       "(225, 51)"
      ]
     },
     "execution_count": 84,
     "metadata": {},
     "output_type": "execute_result"
    }
   ],
   "source": [
    "model_data_pd.shape"
   ]
  },
  {
   "cell_type": "code",
   "execution_count": 85,
   "metadata": {},
   "outputs": [
    {
     "data": {
      "text/html": [
       "<div>\n",
       "<style scoped>\n",
       "    .dataframe tbody tr th:only-of-type {\n",
       "        vertical-align: middle;\n",
       "    }\n",
       "\n",
       "    .dataframe tbody tr th {\n",
       "        vertical-align: top;\n",
       "    }\n",
       "\n",
       "    .dataframe thead th {\n",
       "        text-align: right;\n",
       "    }\n",
       "</style>\n",
       "<table border=\"1\" class=\"dataframe\">\n",
       "  <thead>\n",
       "    <tr style=\"text-align: right;\">\n",
       "      <th></th>\n",
       "      <th>userId</th>\n",
       "      <th>gender</th>\n",
       "      <th>level</th>\n",
       "      <th>browser</th>\n",
       "      <th>platform</th>\n",
       "      <th>avglen</th>\n",
       "      <th>stddevlen</th>\n",
       "      <th>max(length)</th>\n",
       "      <th>min(length)</th>\n",
       "      <th>Downgrade</th>\n",
       "      <th>...</th>\n",
       "      <th>Mon</th>\n",
       "      <th>Tue</th>\n",
       "      <th>Wed</th>\n",
       "      <th>Thu</th>\n",
       "      <th>Fri</th>\n",
       "      <th>Sat</th>\n",
       "      <th>Oct</th>\n",
       "      <th>Nov</th>\n",
       "      <th>Dec</th>\n",
       "      <th>churn</th>\n",
       "    </tr>\n",
       "  </thead>\n",
       "  <tbody>\n",
       "    <tr>\n",
       "      <th>0</th>\n",
       "      <td>100010</td>\n",
       "      <td>0</td>\n",
       "      <td>0</td>\n",
       "      <td>1</td>\n",
       "      <td>1</td>\n",
       "      <td>175.697893</td>\n",
       "      <td>128.410381</td>\n",
       "      <td>538.85342</td>\n",
       "      <td>0.0</td>\n",
       "      <td>0</td>\n",
       "      <td>...</td>\n",
       "      <td>121</td>\n",
       "      <td>55</td>\n",
       "      <td>33</td>\n",
       "      <td>0</td>\n",
       "      <td>112</td>\n",
       "      <td>60</td>\n",
       "      <td>164</td>\n",
       "      <td>217</td>\n",
       "      <td>0</td>\n",
       "      <td>0</td>\n",
       "    </tr>\n",
       "    <tr>\n",
       "      <th>1</th>\n",
       "      <td>200002</td>\n",
       "      <td>1</td>\n",
       "      <td>0</td>\n",
       "      <td>1</td>\n",
       "      <td>1</td>\n",
       "      <td>198.330962</td>\n",
       "      <td>116.218788</td>\n",
       "      <td>592.06485</td>\n",
       "      <td>0.0</td>\n",
       "      <td>5</td>\n",
       "      <td>...</td>\n",
       "      <td>86</td>\n",
       "      <td>96</td>\n",
       "      <td>0</td>\n",
       "      <td>292</td>\n",
       "      <td>0</td>\n",
       "      <td>0</td>\n",
       "      <td>334</td>\n",
       "      <td>140</td>\n",
       "      <td>0</td>\n",
       "      <td>0</td>\n",
       "    </tr>\n",
       "    <tr>\n",
       "      <th>2</th>\n",
       "      <td>125</td>\n",
       "      <td>1</td>\n",
       "      <td>0</td>\n",
       "      <td>3</td>\n",
       "      <td>3</td>\n",
       "      <td>189.919373</td>\n",
       "      <td>138.381904</td>\n",
       "      <td>391.26159</td>\n",
       "      <td>0.0</td>\n",
       "      <td>0</td>\n",
       "      <td>...</td>\n",
       "      <td>0</td>\n",
       "      <td>0</td>\n",
       "      <td>0</td>\n",
       "      <td>0</td>\n",
       "      <td>11</td>\n",
       "      <td>0</td>\n",
       "      <td>11</td>\n",
       "      <td>0</td>\n",
       "      <td>0</td>\n",
       "      <td>1</td>\n",
       "    </tr>\n",
       "    <tr>\n",
       "      <th>3</th>\n",
       "      <td>124</td>\n",
       "      <td>0</td>\n",
       "      <td>1</td>\n",
       "      <td>3</td>\n",
       "      <td>3</td>\n",
       "      <td>209.805615</td>\n",
       "      <td>128.034547</td>\n",
       "      <td>2369.04444</td>\n",
       "      <td>0.0</td>\n",
       "      <td>41</td>\n",
       "      <td>...</td>\n",
       "      <td>975</td>\n",
       "      <td>1000</td>\n",
       "      <td>623</td>\n",
       "      <td>599</td>\n",
       "      <td>1047</td>\n",
       "      <td>208</td>\n",
       "      <td>2618</td>\n",
       "      <td>2207</td>\n",
       "      <td>0</td>\n",
       "      <td>0</td>\n",
       "    </tr>\n",
       "    <tr>\n",
       "      <th>4</th>\n",
       "      <td>51</td>\n",
       "      <td>1</td>\n",
       "      <td>1</td>\n",
       "      <td>3</td>\n",
       "      <td>4</td>\n",
       "      <td>212.368443</td>\n",
       "      <td>130.048095</td>\n",
       "      <td>2594.87302</td>\n",
       "      <td>0.0</td>\n",
       "      <td>23</td>\n",
       "      <td>...</td>\n",
       "      <td>568</td>\n",
       "      <td>526</td>\n",
       "      <td>228</td>\n",
       "      <td>343</td>\n",
       "      <td>629</td>\n",
       "      <td>63</td>\n",
       "      <td>2464</td>\n",
       "      <td>0</td>\n",
       "      <td>0</td>\n",
       "      <td>1</td>\n",
       "    </tr>\n",
       "  </tbody>\n",
       "</table>\n",
       "<p>5 rows × 51 columns</p>\n",
       "</div>"
      ],
      "text/plain": [
       "   userId gender level browser platform      avglen   stddevlen  max(length)  \\\n",
       "0  100010      0     0       1        1  175.697893  128.410381    538.85342   \n",
       "1  200002      1     0       1        1  198.330962  116.218788    592.06485   \n",
       "2     125      1     0       3        3  189.919373  138.381904    391.26159   \n",
       "3     124      0     1       3        3  209.805615  128.034547   2369.04444   \n",
       "4      51      1     1       3        4  212.368443  130.048095   2594.87302   \n",
       "\n",
       "   min(length)  Downgrade  ...    Mon   Tue  Wed  Thu   Fri  Sat   Oct   Nov  \\\n",
       "0          0.0          0  ...    121    55   33    0   112   60   164   217   \n",
       "1          0.0          5  ...     86    96    0  292     0    0   334   140   \n",
       "2          0.0          0  ...      0     0    0    0    11    0    11     0   \n",
       "3          0.0         41  ...    975  1000  623  599  1047  208  2618  2207   \n",
       "4          0.0         23  ...    568   526  228  343   629   63  2464     0   \n",
       "\n",
       "   Dec  churn  \n",
       "0    0      0  \n",
       "1    0      0  \n",
       "2    0      1  \n",
       "3    0      0  \n",
       "4    0      1  \n",
       "\n",
       "[5 rows x 51 columns]"
      ]
     },
     "execution_count": 85,
     "metadata": {},
     "output_type": "execute_result"
    }
   ],
   "source": [
    "model_data_pd.head()"
   ]
  },
  {
   "cell_type": "markdown",
   "metadata": {},
   "source": [
    "# Modeling\n",
    "Split the full dataset into train, test, and validation sets. Test out several of the machine learning methods you learned. Evaluate the accuracy of the various models, tuning parameters as necessary. Determine your winning model based on test accuracy and report results on the validation set. Since the churned users are a fairly small subset, I suggest using F1 score as the metric to optimize."
   ]
  },
  {
   "cell_type": "code",
   "execution_count": 92,
   "metadata": {},
   "outputs": [],
   "source": [
    "model_cols = list(model_data_pd.drop(columns = ['churn', 'userId']).columns)\n",
    "categorical_cols = ['gender','level','browser','platform']\n",
    "numerical_cols = [col_name for col_name in model_data_pd.drop(columns = ['churn', 'userId']) if col_name not in categorical_cols]"
   ]
  },
  {
   "cell_type": "code",
   "execution_count": 87,
   "metadata": {},
   "outputs": [],
   "source": [
    "#pyspark.ml expects target column to be names: 'labelCol', w/ type: Float\n",
    "model_data = model_data.withColumn(\"label\", model_data[\"churn\"].cast(FloatType()))"
   ]
  },
  {
   "cell_type": "code",
   "execution_count": 114,
   "metadata": {},
   "outputs": [],
   "source": [
    "model_data = model_data.withColumn(\"gender\", model_data[\"gender\"].cast(IntegerType()))\n",
    "model_data = model_data.withColumn(\"level\", model_data[\"level\"].cast(IntegerType()))\n",
    "model_data = model_data.withColumn(\"browser\", model_data[\"browser\"].cast(IntegerType()))\n",
    "model_data = model_data.withColumn(\"platform\", model_data[\"platform\"].cast(IntegerType()))"
   ]
  },
  {
   "cell_type": "code",
   "execution_count": 115,
   "metadata": {},
   "outputs": [
    {
     "data": {
      "text/plain": [
       "[('gender', 'int'),\n",
       " ('level', 'int'),\n",
       " ('browser', 'int'),\n",
       " ('platform', 'int'),\n",
       " ('avglen', 'double'),\n",
       " ('stddevlen', 'double'),\n",
       " ('max(length)', 'double'),\n",
       " ('min(length)', 'double'),\n",
       " ('Downgrade', 'bigint'),\n",
       " ('NextSong', 'bigint'),\n",
       " ('Thumbs Up', 'bigint'),\n",
       " ('Add to Playlist', 'bigint'),\n",
       " ('Home', 'bigint'),\n",
       " ('Roll Advert', 'bigint'),\n",
       " ('Add Friend', 'bigint'),\n",
       " ('0', 'bigint'),\n",
       " ('1', 'bigint'),\n",
       " ('2', 'bigint'),\n",
       " ('3', 'bigint'),\n",
       " ('4', 'bigint'),\n",
       " ('5', 'bigint'),\n",
       " ('6', 'bigint'),\n",
       " ('7', 'bigint'),\n",
       " ('8', 'bigint'),\n",
       " ('9', 'bigint'),\n",
       " ('10', 'bigint'),\n",
       " ('11', 'bigint'),\n",
       " ('12', 'bigint'),\n",
       " ('13', 'bigint'),\n",
       " ('14', 'bigint'),\n",
       " ('15', 'bigint'),\n",
       " ('16', 'bigint'),\n",
       " ('17', 'bigint'),\n",
       " ('18', 'bigint'),\n",
       " ('19', 'bigint'),\n",
       " ('20', 'bigint'),\n",
       " ('21', 'bigint'),\n",
       " ('22', 'bigint'),\n",
       " ('23', 'bigint'),\n",
       " ('Sun', 'bigint'),\n",
       " ('Mon', 'bigint'),\n",
       " ('Tue', 'bigint'),\n",
       " ('Wed', 'bigint'),\n",
       " ('Thu', 'bigint'),\n",
       " ('Fri', 'bigint'),\n",
       " ('Sat', 'bigint'),\n",
       " ('Oct', 'bigint'),\n",
       " ('Nov', 'bigint'),\n",
       " ('Dec', 'bigint'),\n",
       " ('label', 'float')]"
      ]
     },
     "execution_count": 115,
     "metadata": {},
     "output_type": "execute_result"
    }
   ],
   "source": [
    "model_data.dtypes"
   ]
  },
  {
   "cell_type": "code",
   "execution_count": 88,
   "metadata": {},
   "outputs": [],
   "source": [
    "model_data = model_data.drop('churn', 'userId')"
   ]
  },
  {
   "cell_type": "code",
   "execution_count": 99,
   "metadata": {},
   "outputs": [],
   "source": [
    "def feature_scaling(df):\n",
    "    assembler = VectorAssembler(inputCols=numerical_cols, outputCol='numerical_cols')\n",
    "    assembled_df = assembler.transform(df)\n",
    "    \n",
    "    scaler = StandardScaler(withMean=True, withStd=True, inputCol='numerical_cols', outputCol='numerical_scaled')\n",
    "    scaler_fit = scaler.fit(assembled_df)\n",
    "    feature_df = scaler_fit.transform(assembled_df)\n",
    "    \n",
    "    assembler = VectorAssembler(inputCols=categorical_cols+['numerical_scaled'], outputCol='features')\n",
    "    feature_df = assembler.transform(scaled_df)\n",
    "    \n",
    "    return feature_df"
   ]
  },
  {
   "cell_type": "code",
   "execution_count": 119,
   "metadata": {},
   "outputs": [],
   "source": [
    "feature_data = feature_scaling(model_data)"
   ]
  },
  {
   "cell_type": "code",
   "execution_count": 120,
   "metadata": {},
   "outputs": [],
   "source": [
    "train, test = feature_data.randomSplit([0.7, 0.3], seed=42)"
   ]
  },
  {
   "cell_type": "code",
   "execution_count": 123,
   "metadata": {},
   "outputs": [
    {
     "data": {
      "text/plain": [
       "(62, 163)"
      ]
     },
     "execution_count": 123,
     "metadata": {},
     "output_type": "execute_result"
    }
   ],
   "source": [
    "test.count(), train.count()"
   ]
  },
  {
   "cell_type": "markdown",
   "metadata": {},
   "source": [
    "# Baseline of models\n",
    "Chose Random Forest Classifier and Logistic Regression as baseline models"
   ]
  },
  {
   "cell_type": "code",
   "execution_count": 126,
   "metadata": {},
   "outputs": [],
   "source": [
    "# Initialize two models\n",
    "model_rf = RandomForestClassifier(seed=42)\n",
    "model_lr = LogisticRegression(maxIter=50)\n",
    "model_svm = LinearSVC(maxIter=10, regParam=0.1)"
   ]
  },
  {
   "cell_type": "code",
   "execution_count": 125,
   "metadata": {},
   "outputs": [],
   "source": [
    "evaluator= MulticlassClassificationEvaluator(predictionCol=\"prediction\")"
   ]
  },
  {
   "cell_type": "code",
   "execution_count": 136,
   "metadata": {},
   "outputs": [
    {
     "name": "stdout",
     "output_type": "stream",
     "text": [
      "RandomForestClassifier begins to train\n",
      "RandomForestClassifier finishes training\n",
      "RandomForestClassifier begins to train\n",
      "RandomForestClassifier finishes training\n",
      "Test F1-score:  0.8471630486237912\n",
      "LogisticRegression begins to train\n",
      "LogisticRegression finishes training\n",
      "LogisticRegression begins to train\n",
      "LogisticRegression finishes training\n",
      "Test F1-score:  0.7045606229143493\n",
      "LinearSVC begins to train\n",
      "LinearSVC finishes training\n",
      "LinearSVC begins to train\n",
      "LinearSVC finishes training\n",
      "Test F1-score:  0.6977622784074397\n"
     ]
    }
   ],
   "source": [
    "for clf in [model_rf, model_lr, model_svm]:\n",
    "    model_results = {}\n",
    "    clf_name = clf.__class__.__name__\n",
    "    \n",
    "    # fit the data features into the model\n",
    "    print(f'{clf_name} begins to train')\n",
    "    model = clf.fit(train)\n",
    "    print(f'{clf_name} finishes training')\n",
    "    \n",
    "    # predict\n",
    "    print(f'{clf_name} begins to train')\n",
    "    pred = model.transform(test)\n",
    "    print(f'{clf_name} finishes training')\n",
    "    \n",
    "    # metrics\n",
    "    model_results['f1_test'] = evaluator.evaluate(pred.select('label',\\\n",
    "                                                              'prediction'),{evaluator.metricName: 'f1'})\n",
    "    print('Test F1-score: ', model_results['f1_test'])"
   ]
  },
  {
   "cell_type": "markdown",
   "metadata": {},
   "source": [
    "### Summary\n",
    "From the above calculation and predictions among all three models, we can see the Random Forest Classifier has the best F1-score around 0.847. Thus, we chose Random Forest Classifier for further parameters tuning."
   ]
  },
  {
   "cell_type": "markdown",
   "metadata": {},
   "source": [
    "### Tuning Random Forest Classifier Parameters\n",
    "* max depth\n",
    "* number of trees"
   ]
  },
  {
   "cell_type": "code",
   "execution_count": 139,
   "metadata": {},
   "outputs": [],
   "source": [
    "paramGrid = ParamGridBuilder().\\\n",
    "            addGrid(model_rf.maxDepth,[3,4,5]).\\\n",
    "            addGrid(model_rf.numTrees,[20, 30]).\\\n",
    "            build()\n",
    "crossval = CrossValidator(estimator=model_rf,\n",
    "                      estimatorParamMaps=paramGrid,\n",
    "                      evaluator=MulticlassClassificationEvaluator(metricName=\"f1\"),\n",
    "                      numFolds=3)"
   ]
  },
  {
   "cell_type": "code",
   "execution_count": 140,
   "metadata": {},
   "outputs": [],
   "source": [
    "cvModel_rf = crossval.fit(train)"
   ]
  },
  {
   "cell_type": "code",
   "execution_count": 141,
   "metadata": {},
   "outputs": [
    {
     "name": "stdout",
     "output_type": "stream",
     "text": [
      "Accuracy: 0.8709677419354839\n",
      "F-1 Score:0.8471630486237912\n"
     ]
    }
   ],
   "source": [
    "pred = cvModel_rf.transform(test)\n",
    "\n",
    "print('Accuracy: {}'.format(evaluator.evaluate(pred.select('label','prediction'), {evaluator.metricName: \"accuracy\"})))\n",
    "print('F-1 Score:{}'.format(evaluator.evaluate(pred.select('label','prediction'), {evaluator.metricName: \"f1\"})))"
   ]
  },
  {
   "cell_type": "code",
   "execution_count": 142,
   "metadata": {},
   "outputs": [
    {
     "data": {
      "text/plain": [
       "(0.7645505525643344,\n",
       " {Param(parent='RandomForestClassifier_b3ab95b234fb', name='maxDepth', doc='Maximum depth of the tree. (>= 0) E.g., depth 0 means 1 leaf node; depth 1 means 1 internal node + 2 leaf nodes.'): 3,\n",
       "  Param(parent='RandomForestClassifier_b3ab95b234fb', name='numTrees', doc='Number of trees to train (>= 1).'): 20})"
      ]
     },
     "execution_count": 142,
     "metadata": {},
     "output_type": "execute_result"
    }
   ],
   "source": [
    "# https://forums.databricks.com/questions/12097/pyspark-how-to-get-best-params-in-grid-search.html\n",
    "list(zip(cvModel_rf.avgMetrics, paramGrid))[0]"
   ]
  },
  {
   "cell_type": "markdown",
   "metadata": {},
   "source": [
    "# Conclusions\n",
    "From the above calculations, we choose Random Forest Classifier as the best model the model with a maxDepth equals to 3 and numTrees equals to 20. The accuracy of the prediction is 0.8710 and the f-1 score is 0.8472"
   ]
  },
  {
   "cell_type": "markdown",
   "metadata": {},
   "source": [
    "# Final Steps\n",
    "Clean up your code, adding comments and renaming variables to make the code easier to read and maintain. Refer to the Spark Project Overview page and Data Scientist Capstone Project Rubric to make sure you are including all components of the capstone project and meet all expectations. Remember, this includes thorough documentation in a README file in a Github repository, as well as a web app or blog post."
   ]
  }
 ],
 "metadata": {
  "kernelspec": {
   "display_name": "Python 3",
   "language": "python",
   "name": "python3"
  },
  "language_info": {
   "codemirror_mode": {
    "name": "ipython",
    "version": 3
   },
   "file_extension": ".py",
   "mimetype": "text/x-python",
   "name": "python",
   "nbconvert_exporter": "python",
   "pygments_lexer": "ipython3",
   "version": "3.6.3"
  }
 },
 "nbformat": 4,
 "nbformat_minor": 2
}
